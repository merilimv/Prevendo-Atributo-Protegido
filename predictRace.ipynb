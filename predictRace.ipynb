{
 "cells": [
  {
   "cell_type": "code",
   "execution_count": 84,
   "metadata": {},
   "outputs": [
    {
     "name": "stdout",
     "output_type": "stream",
     "text": [
      "<class 'pandas.core.frame.DataFrame'>\n",
      "RangeIndex: 48842 entries, 0 to 48841\n",
      "Data columns (total 15 columns):\n",
      " #   Column           Non-Null Count  Dtype \n",
      "---  ------           --------------  ----- \n",
      " 0   age              48842 non-null  int64 \n",
      " 1   workclass        48842 non-null  object\n",
      " 2   fnlwgt           48842 non-null  int64 \n",
      " 3   education        48842 non-null  object\n",
      " 4   educational-num  48842 non-null  int64 \n",
      " 5   marital-status   48842 non-null  object\n",
      " 6   occupation       48842 non-null  object\n",
      " 7   relationship     48842 non-null  object\n",
      " 8   race             48842 non-null  object\n",
      " 9   gender           48842 non-null  object\n",
      " 10  capital-gain     48842 non-null  int64 \n",
      " 11  capital-loss     48842 non-null  int64 \n",
      " 12  hours-per-week   48842 non-null  int64 \n",
      " 13  native-country   48842 non-null  object\n",
      " 14  income           48842 non-null  object\n",
      "dtypes: int64(6), object(9)\n",
      "memory usage: 5.6+ MB\n"
     ]
    },
    {
     "data": {
      "text/plain": [
       "White                 41761\n",
       "Black                  4685\n",
       "Asian-Pac-Islander     1519\n",
       "Amer-Indian-Eskimo      470\n",
       "Other                   406\n",
       "Name: race, dtype: int64"
      ]
     },
     "execution_count": 84,
     "metadata": {},
     "output_type": "execute_result"
    }
   ],
   "source": [
    "import pandas as pd\n",
    "import numpy as np\n",
    "import seaborn as sns\n",
    "import matplotlib.pyplot as plt\n",
    "\n",
    "data = pd.read_csv(\".\\\\adult.csv\")\n",
    "data.info()\n",
    "data = data.drop((data[data[\"native-country\"] == \"Holand-Netherlands\"]).index)\n",
    "# Fiz esse drop porque originalmente só tem 1 registro com esse native-country, ficava dando problema se ele não fosse pro treino então preferi retirá-lo\n",
    "data = data.drop(data[(data['race'] != 'White') & (data['race'] != \"Black\")].index)\n",
    "\n",
    "data[\"race\"].value_counts()"
   ]
  },
  {
   "cell_type": "code",
   "execution_count": 85,
   "metadata": {},
   "outputs": [],
   "source": [
    "x = data.drop([\"income\", \"race\"], axis = 1)\n",
    "Y = data[\"race\"]\n",
    "\n",
    "from sklearn.model_selection import train_test_split\n",
    "\n",
    "x_train, x_test, Y_train, Y_test = train_test_split(x, Y, test_size = 0.3)"
   ]
  },
  {
   "cell_type": "code",
   "execution_count": 86,
   "metadata": {},
   "outputs": [
    {
     "name": "stdout",
     "output_type": "stream",
     "text": [
      "       age     workclass  fnlwgt     education  educational-num  \\\n",
      "5633    29       Private  115677          11th                7   \n",
      "31747   30  Self-emp-inc  173858  Some-college               10   \n",
      "42737   36       Private  343476       HS-grad                9   \n",
      "40037   34       Private  345705     Bachelors               13   \n",
      "42328   41     State-gov   33126     Bachelors               13   \n",
      "...    ...           ...     ...           ...              ...   \n",
      "6891    62     Local-gov  242341  Some-college               10   \n",
      "7788    28       Private  269317       HS-grad                9   \n",
      "41637   45       Private  102308       Masters               14   \n",
      "33554   57   Federal-gov  135028       HS-grad                9   \n",
      "43627   41       Private  242089       Masters               14   \n",
      "\n",
      "           marital-status         occupation    relationship  gender  \\\n",
      "5633        Never-married  Machine-op-inspct       Own-child    Male   \n",
      "31747  Married-civ-spouse    Exec-managerial         Husband    Male   \n",
      "42737            Divorced       Craft-repair   Not-in-family    Male   \n",
      "40037  Married-civ-spouse              Sales         Husband    Male   \n",
      "42328  Married-civ-spouse    Farming-fishing         Husband    Male   \n",
      "...                   ...                ...             ...     ...   \n",
      "6891             Divorced     Prof-specialty   Not-in-family    Male   \n",
      "7788   Married-civ-spouse  Machine-op-inspct         Husband    Male   \n",
      "41637  Married-civ-spouse    Exec-managerial         Husband    Male   \n",
      "33554           Separated       Adm-clerical  Other-relative  Female   \n",
      "43627  Married-civ-spouse    Exec-managerial         Husband    Male   \n",
      "\n",
      "       capital-gain  capital-loss  hours-per-week native-country  \n",
      "5633              0             0              42  United-States  \n",
      "31747             0          1902              40          South  \n",
      "42737             0             0              30  United-States  \n",
      "40037             0          1977              50  United-States  \n",
      "42328             0             0              40  United-States  \n",
      "...             ...           ...             ...            ...  \n",
      "6891              0             0              40  United-States  \n",
      "7788              0             0              42  United-States  \n",
      "41637         15024             0              60  United-States  \n",
      "33554             0             0              35  United-States  \n",
      "43627             0             0              45  United-States  \n",
      "\n",
      "[14653 rows x 13 columns]\n",
      "\n"
     ]
    }
   ],
   "source": [
    "from sklearn.preprocessing import OrdinalEncoder\n",
    "\n",
    "categoricalLabels = (x_train.select_dtypes(include = ['object'])).columns\n",
    "\n",
    "encoder = OrdinalEncoder(dtype = 'int32')\n",
    "\n",
    "num_x_train = x_train.copy()\n",
    "num_x_test = x_test.copy()\n",
    "\n",
    "num_x_train[categoricalLabels] = encoder.fit_transform(x_train[categoricalLabels])\n",
    "print(num_x_test)\n",
    "num_x_test[categoricalLabels] = encoder.transform(x_test[categoricalLabels])\n",
    "\n",
    "num_Y_test = Y_test.replace({\"White\": 0, \"Black\": 1, \"Asian-Pac-Islander\": 1, \"Amer-Indian-Eskimo\": 1, \"Other\": 4})\n",
    "num_Y_train = Y_train.replace({\"White\": 0, \"Black\": 1, \"Asian-Pac-Islander\": 1, \"Amer-Indian-Eskimo\": 1, \"Other\": 4})\n",
    "print()"
   ]
  },
  {
   "cell_type": "markdown",
   "metadata": {},
   "source": [
    "## Classificador da Raça de uma Pessoa\n",
    "A acurácia é de 0.8 mais ou menos, quando adicionamos excluímos os registros com raça \"Other\". A acurácia considerando \"Other\" é de 0.75, variando pouco mais 0.01.\n",
    "\n",
    "O que demonstra, que com uma acurácia relativamente alta, podemos prever a Raça de uma pessoa utilizando apenas as correlações entre ela e os atributos. "
   ]
  },
  {
   "cell_type": "code",
   "execution_count": 87,
   "metadata": {},
   "outputs": [
    {
     "name": "stdout",
     "output_type": "stream",
     "text": [
      "0.25319047294069474\n"
     ]
    }
   ],
   "source": [
    "from sklearn.tree import DecisionTreeClassifier\n",
    "from sklearn.metrics import mean_absolute_error\n",
    "\n",
    "modelo = DecisionTreeClassifier()\n",
    "\n",
    "modelo.fit(num_x_train, num_Y_train)\n",
    "previsao = modelo.predict(num_x_test)\n",
    "\n",
    "acuraciaNP = mean_absolute_error(num_Y_test, previsao)\n",
    "print(acuraciaNP)"
   ]
  },
  {
   "cell_type": "markdown",
   "metadata": {},
   "source": [
    "erro em média de 0.24 para quando eu faço Brancos e Outras Etnias\n",
    "erro em média de 0.16 para quando eu faço Brancos e Negros, apagando as outras etnias além dessas duas"
   ]
  }
 ],
 "metadata": {
  "kernelspec": {
   "display_name": "Python 3.10.7 64-bit",
   "language": "python",
   "name": "python3"
  },
  "language_info": {
   "codemirror_mode": {
    "name": "ipython",
    "version": 3
   },
   "file_extension": ".py",
   "mimetype": "text/x-python",
   "name": "python",
   "nbconvert_exporter": "python",
   "pygments_lexer": "ipython3",
   "version": "3.10.7"
  },
  "orig_nbformat": 4,
  "vscode": {
   "interpreter": {
    "hash": "41f24c3b72f316e3b61812b25f63d5b07991f4c8138cc9e53a0e82c5f9f37da6"
   }
  }
 },
 "nbformat": 4,
 "nbformat_minor": 2
}
